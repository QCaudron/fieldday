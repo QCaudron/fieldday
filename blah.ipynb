{
 "cells": [
  {
   "cell_type": "code",
   "execution_count": 1,
   "metadata": {},
   "outputs": [],
   "source": [
    "with open(\"licw_members.txt\", \"r\") as f:\n",
    "    members = f.readlines()"
   ]
  },
  {
   "cell_type": "code",
   "execution_count": 4,
   "metadata": {},
   "outputs": [],
   "source": [
    "members = [member.strip() for member in members if member.strip() != \"\"]"
   ]
  },
  {
   "cell_type": "code",
   "execution_count": 7,
   "metadata": {},
   "outputs": [],
   "source": [
    "members = [member for member in members if not member.startswith(\"<\")]"
   ]
  },
  {
   "cell_type": "code",
   "execution_count": 8,
   "metadata": {},
   "outputs": [
    {
     "data": {
      "text/plain": [
       "['Jim Painter',\n",
       " 'jfpainter@yahoo.com',\n",
       " 'Special',\n",
       " 'Bill Dorfmann',\n",
       " 'bill@billdorfmann.com',\n",
       " 'Single',\n",
       " 'Jackie KQ4OPV',\n",
       " 'jmlcats1939@gmail.com',\n",
       " 'Single',\n",
       " 'William VE7WDO',\n",
       " 've7wdo@myrac.ca',\n",
       " 'Single',\n",
       " 'Bentley VE7ODA',\n",
       " 'bentleyfooks@gmail.com',\n",
       " 'Summary',\n",
       " 'Brady K5IZV',\n",
       " 'Brady.a.dixon@gmail.com',\n",
       " 'Summary',\n",
       " 'Ed AD7FC',\n",
       " 'lisowski@nwinfo.net']"
      ]
     },
     "execution_count": 8,
     "metadata": {},
     "output_type": "execute_result"
    }
   ],
   "source": [
    "members[:20]"
   ]
  },
  {
   "cell_type": "code",
   "execution_count": 53,
   "metadata": {},
   "outputs": [],
   "source": [
    "import re\n",
    "from tqdm import tqdm\n",
    "french_call = re.compile(r\"\\s(F\\d[A-Z]{3}).*\")\n",
    "quebec_call = re.compile(r\"\\s(VE2[A-Z]{3}).*\")\n",
    "\n",
    "def find_french_call(line):\n",
    "    if call := french_call.search(line) or quebec_call.search(line):\n",
    "        return call.group(1)"
   ]
  },
  {
   "cell_type": "code",
   "execution_count": 56,
   "metadata": {},
   "outputs": [
    {
     "name": "stderr",
     "output_type": "stream",
     "text": [
      "100%|██████████| 15831/15831 [00:00<00:00, 688061.79it/s]\n"
     ]
    }
   ],
   "source": [
    "names = []\n",
    "calls = []\n",
    "emails = []\n",
    "\n",
    "for i in tqdm(range(0, len(members)-1)):\n",
    "    if call := find_french_call(members[i]):\n",
    "        names.append(members[i].split(\" \")[0])\n",
    "        calls.append(call)\n",
    "        emails.append(members[i+1])"
   ]
  },
  {
   "cell_type": "code",
   "execution_count": 59,
   "metadata": {},
   "outputs": [
    {
     "name": "stdout",
     "output_type": "stream",
     "text": [
      "Jacques VE2JVX (jacques.vignacourt@gmail.com)\n",
      "Jean-Jacques F5IJO (f5ijo@orange.fr)\n",
      "Norm VE2NDZ (norman.derbridge@videotron.ca)\n",
      "Quentin F4IRO (qsantos@qsantos.fr)\n",
      "Frank VE2KOI (fullum.frank@gmail.com)\n",
      "Roy F4LBR (r.whitehead@gyrolan.com)\n",
      "Olivier F4JAM (obordas@gmail.com)\n",
      "Eric F4HHB (Ericregnier64@hotmail.fr)\n",
      "Antoine F4IYF (antoine.pannetier@wanadoo.fr)\n",
      "Eric VE2LKR (edrouin275@gmail.com)\n",
      "Alain F4IZJ (alain.merliere@outlook.com)\n",
      "David F5JYA (f5jya_david@arrl.net)\n",
      "David F5JYA (d2krembel@gmail.com)\n",
      "Sebastien VE2GTZ (sebastienjean@yahoo.com)\n"
     ]
    }
   ],
   "source": [
    "for name, call, email in zip(names, calls, emails):\n",
    "    print(f\"{name} {call} ({email})\")"
   ]
  },
  {
   "cell_type": "code",
   "execution_count": 52,
   "metadata": {},
   "outputs": [
    {
     "data": {
      "text/plain": [
       "5277"
      ]
     },
     "execution_count": 52,
     "metadata": {},
     "output_type": "execute_result"
    }
   ],
   "source": [
    "len(members) // 3"
   ]
  }
 ],
 "metadata": {
  "kernelspec": {
   "display_name": "base",
   "language": "python",
   "name": "python3"
  },
  "language_info": {
   "codemirror_mode": {
    "name": "ipython",
    "version": 3
   },
   "file_extension": ".py",
   "mimetype": "text/x-python",
   "name": "python",
   "nbconvert_exporter": "python",
   "pygments_lexer": "ipython3",
   "version": "3.10.12"
  }
 },
 "nbformat": 4,
 "nbformat_minor": 2
}
